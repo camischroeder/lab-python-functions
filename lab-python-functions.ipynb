{
 "cells": [
  {
   "cell_type": "markdown",
   "id": "25d7736c-ba17-4aff-b6bb-66eba20fbf4e",
   "metadata": {},
   "source": [
    "# Lab | Functions"
   ]
  },
  {
   "cell_type": "code",
   "execution_count": 4,
   "id": "1df3d197",
   "metadata": {},
   "outputs": [],
   "source": [
    "## Exercise: Managing Customer Orders with Functions\n",
    "\n",
    "#In the previous exercise, you improved the code for managing customer orders by using loops and flow control. Now, let's take it a step further and \n",
    "#refactor the code by introducing functions.\n",
    "\n",
    "#Follow the steps below to complete the exercise:"
   ]
  },
  {
   "cell_type": "code",
   "execution_count": 5,
   "id": "bd2df80c",
   "metadata": {},
   "outputs": [],
   "source": [
    "products = ['t-shirt', 'mug', 'hat', 'book', 'keychain']"
   ]
  },
  {
   "cell_type": "code",
   "execution_count": 6,
   "id": "cbe925fa",
   "metadata": {},
   "outputs": [],
   "source": [
    "#1. Define a function named `initialize_inventory` that takes `products` as a parameter. Inside the function, implement the code for \n",
    "#initializing the inventory dictionary using a loop and user input."
   ]
  },
  {
   "cell_type": "code",
   "execution_count": 7,
   "id": "4e5355a3",
   "metadata": {},
   "outputs": [],
   "source": [
    "def initialize_inventory(prod_list):\n",
    "    customer_inventory = {}\n",
    "    for item in prod_list:\n",
    "        amount = int(input(f\"How many {item}s are available?\"))\n",
    "        customer_inventory[item] = amount\n",
    "    \n",
    "    return customer_inventory"
   ]
  },
  {
   "cell_type": "code",
   "execution_count": 8,
   "id": "1cb97236",
   "metadata": {},
   "outputs": [
    {
     "data": {
      "text/plain": [
       "{'t-shirt': 5, 'mug': 5, 'hat': 5, 'book': 5, 'keychain': 5}"
      ]
     },
     "execution_count": 8,
     "metadata": {},
     "output_type": "execute_result"
    }
   ],
   "source": [
    "initialize_inventory(products)"
   ]
  },
  {
   "cell_type": "code",
   "execution_count": 9,
   "id": "e66175c5",
   "metadata": {},
   "outputs": [],
   "source": [
    "#2. Define a function named `get_customer_orders` that takes no parameters. Inside the function, implement the code for prompting the user to \n",
    "#enter the product names using a loop. The function should return the `customer_orders` set."
   ]
  },
  {
   "cell_type": "code",
   "execution_count": 1,
   "id": "c0698969",
   "metadata": {},
   "outputs": [],
   "source": [
    "def get_customer_orders():\n",
    "    customer_orders = set()\n",
    "    intention = \"yes\"\n",
    "    while intention == \"yes\":\n",
    "        prod = input(\"What product would you like to order?\")\n",
    "        if prod in products:\n",
    "            customer_orders.add(prod)\n",
    "            if len(customer_orders) == len(products):\n",
    "                print(\"You've added all the available products to your cart. Please click here to proceed to payment\")\n",
    "                break\n",
    "        else:\n",
    "            print(\"Sorry, we do not have that product available\")\n",
    "        intention = input(\"To continue please type yes\")\n",
    "\n",
    "    print(\"These are the contents of your cart: \", customer_orders)\n",
    "    return customer_orders "
   ]
  },
  {
   "cell_type": "code",
   "execution_count": 11,
   "id": "27c4f72b",
   "metadata": {},
   "outputs": [
    {
     "name": "stdout",
     "output_type": "stream",
     "text": [
      "These are the contents of your cart:  {'keychain', 'mug', 'hat'}\n"
     ]
    },
    {
     "data": {
      "text/plain": [
       "{'hat', 'keychain', 'mug'}"
      ]
     },
     "execution_count": 11,
     "metadata": {},
     "output_type": "execute_result"
    }
   ],
   "source": [
    "get_customer_orders()"
   ]
  },
  {
   "cell_type": "code",
   "execution_count": 12,
   "id": "ba93b751",
   "metadata": {},
   "outputs": [],
   "source": [
    "#3. Define a function named `update_inventory` that takes `customer_orders` and `inventory` as parameters. Inside the function, implement the \n",
    "#code for updating the inventory dictionary based on the customer orders."
   ]
  },
  {
   "cell_type": "code",
   "execution_count": 13,
   "id": "e4bdd71e",
   "metadata": {},
   "outputs": [
    {
     "name": "stdout",
     "output_type": "stream",
     "text": [
      "These are the contents of your cart:  {'keychain', 'mug', 'hat'}\n"
     ]
    }
   ],
   "source": [
    "customer_orders = get_customer_orders()\n",
    "inventory = initialize_inventory(products)"
   ]
  },
  {
   "cell_type": "code",
   "execution_count": 14,
   "id": "17a8ea2a",
   "metadata": {},
   "outputs": [],
   "source": [
    "def update_inventory(cust_ord, invent):\n",
    "    for item in cust_ord:\n",
    "        amount = int(input(f\"How many {item}s would you like to purchase?\"))\n",
    "        invent[item] -= amount\n",
    "    return invent"
   ]
  },
  {
   "cell_type": "code",
   "execution_count": 15,
   "id": "0f072c9e",
   "metadata": {},
   "outputs": [
    {
     "data": {
      "text/plain": [
       "{'t-shirt': 5, 'mug': 4, 'hat': 4, 'book': 5, 'keychain': 4}"
      ]
     },
     "execution_count": 15,
     "metadata": {},
     "output_type": "execute_result"
    }
   ],
   "source": [
    "update_inventory(customer_orders, inventory)"
   ]
  },
  {
   "cell_type": "code",
   "execution_count": 16,
   "id": "714831ce",
   "metadata": {},
   "outputs": [],
   "source": [
    "#4. Define a function named `calculate_order_statistics` that takes `customer_orders` and `products` as parameters. Inside the function, implement \n",
    "#the code for calculating the order statistics (total products ordered, and percentage of unique products ordered). The function should return these \n",
    "#values."
   ]
  },
  {
   "cell_type": "code",
   "execution_count": 17,
   "id": "4f40f746",
   "metadata": {},
   "outputs": [],
   "source": [
    "def calculate_order_statistics(cust_orders, prod_list):\n",
    "    order_statistics = []\n",
    "    total_ordered = len(cust_orders)\n",
    "    total_available = len(prod_list)\n",
    "    percentage = 100 * total_ordered/total_available\n",
    "    order_statistics.append(total_ordered)\n",
    "    order_statistics.append(percentage)\n",
    "\n",
    "    return order_statistics"
   ]
  },
  {
   "cell_type": "code",
   "execution_count": 18,
   "id": "40b9e038",
   "metadata": {},
   "outputs": [
    {
     "data": {
      "text/plain": [
       "[3, 60.0]"
      ]
     },
     "execution_count": 18,
     "metadata": {},
     "output_type": "execute_result"
    }
   ],
   "source": [
    "\n",
    "calculate_order_statistics(customer_orders, products)"
   ]
  },
  {
   "cell_type": "code",
   "execution_count": 19,
   "id": "48850828",
   "metadata": {},
   "outputs": [],
   "source": [
    "#5. Define a function named `print_order_statistics` that takes `order_statistics` as a parameter. Inside the function, implement the code for \n",
    "#printing the order statistics."
   ]
  },
  {
   "cell_type": "code",
   "execution_count": 20,
   "id": "adde6141",
   "metadata": {},
   "outputs": [
    {
     "name": "stdout",
     "output_type": "stream",
     "text": [
      "You have chosen 3 products from our line. They represent 60.0 % of our line of products\n"
     ]
    }
   ],
   "source": [
    "order_statistics = calculate_order_statistics(customer_orders, products)\n",
    "\n",
    "def print_order_statistics(order_statistics):\n",
    "    return print(\"You have chosen\", order_statistics[0], \"products from our line. They represent\", order_statistics[-1], \"% of our line of products\")\n",
    "\n",
    "\n",
    "print_order_statistics(order_statistics)"
   ]
  },
  {
   "cell_type": "code",
   "execution_count": 21,
   "id": "ce79c630",
   "metadata": {},
   "outputs": [],
   "source": [
    "#6. Define a function named `print_updated_inventory` that takes `inventory` as a parameter. Inside the function, implement the code for printing \n",
    "#the updated inventory."
   ]
  },
  {
   "cell_type": "code",
   "execution_count": 30,
   "id": "e9fcb8cc",
   "metadata": {},
   "outputs": [
    {
     "name": "stdout",
     "output_type": "stream",
     "text": [
      "Our current inventory is: {'t-shirt': 5, 'mug': 4, 'hat': 4, 'book': 5, 'keychain': 4}\n"
     ]
    }
   ],
   "source": [
    "def print_updated_inventory(inventory):\n",
    "    return print(f\"Our current inventory is: {inventory}\")\n",
    "\n",
    "print_updated_inventory(inventory)\n",
    "#the enunciate of all the labs is very confusing - a question on the first one that was not clear (#7) has changed the entirety of following labs. \n",
    "# probably the ones above won't be right due to this \"vague\" enunciate. I will not change it or else it will not follow the same line of thought \n",
    "# as the labs already delivered.\n",
    "    "
   ]
  },
  {
   "cell_type": "code",
   "execution_count": 23,
   "id": "66cd171b",
   "metadata": {},
   "outputs": [],
   "source": [
    "#7. Call the functions in the appropriate sequence to execute the program and manage customer orders."
   ]
  },
  {
   "cell_type": "code",
   "execution_count": 27,
   "id": "891e6358",
   "metadata": {},
   "outputs": [],
   "source": [
    "def main_function():\n",
    "    products = [\"t-shirt\", \"mug\", \"hat\", \"book\", \"keychain\"]\n",
    "    inventory = initialize_inventory(products)\n",
    "    customer_orders = get_customer_orders()\n",
    "    inventory = update_inventory(customer_orders, inventory)\n",
    "    order_statistics = calculate_order_statistics(customer_orders, products)\n",
    "    print_order_statistics(order_statistics)\n",
    "    print_updated_inventory(inventory)\n",
    "\n",
    "    return None"
   ]
  },
  {
   "cell_type": "code",
   "execution_count": 31,
   "id": "7ef3f8f3",
   "metadata": {},
   "outputs": [
    {
     "name": "stdout",
     "output_type": "stream",
     "text": [
      "These are the contents of your cart:  {'mug', 'keychain', 'hat'}\n",
      "You have chosen 3 products from our line. They represent 60.0 % of our line of products\n",
      "Our current inventory is: {'t-shirt': 5, 'mug': 4, 'hat': 4, 'book': 5, 'keychain': 4}\n"
     ]
    }
   ],
   "source": [
    "main_function()"
   ]
  },
  {
   "cell_type": "markdown",
   "id": "0c581062-8967-4d93-b06e-62833222f930",
   "metadata": {
    "tags": []
   },
   "source": [
    "#- Consider the input parameters required for each function and their return values.\n",
    "#- Utilize function parameters and return values to transfer data between functions.\n",
    "#- Test your functions individually to ensure they work correctly."
   ]
  }
 ],
 "metadata": {
  "kernelspec": {
   "display_name": "Python 3 (ipykernel)",
   "language": "python",
   "name": "python3"
  },
  "language_info": {
   "codemirror_mode": {
    "name": "ipython",
    "version": 3
   },
   "file_extension": ".py",
   "mimetype": "text/x-python",
   "name": "python",
   "nbconvert_exporter": "python",
   "pygments_lexer": "ipython3",
   "version": "3.11.4"
  }
 },
 "nbformat": 4,
 "nbformat_minor": 5
}
